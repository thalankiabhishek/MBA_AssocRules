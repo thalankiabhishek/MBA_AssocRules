{
  "nbformat": 4,
  "nbformat_minor": 0,
  "metadata": {
    "colab": {
      "name": "InstaCart_MBA.ipynb",
      "provenance": [],
      "collapsed_sections": [],
      "toc_visible": true,
      "authorship_tag": "ABX9TyPssQuSh279r4HOqGjNRXdy",
      "include_colab_link": true
    },
    "kernelspec": {
      "name": "python3",
      "display_name": "Python 3"
    },
    "accelerator": "TPU"
  },
  "cells": [
    {
      "cell_type": "markdown",
      "metadata": {
        "id": "view-in-github",
        "colab_type": "text"
      },
      "source": [
        "<a href=\"https://colab.research.google.com/github/thalankiabhishek/MBA_AssocRules/blob/master/InstaCart_MBA.ipynb\" target=\"_parent\"><img src=\"https://colab.research.google.com/assets/colab-badge.svg\" alt=\"Open In Colab\"/></a>"
      ]
    },
    {
      "cell_type": "markdown",
      "metadata": {
        "id": "hOp6Tx-_OO3m",
        "colab_type": "text"
      },
      "source": [
        "---\n",
        "# **Market Basket Analysis**\n",
        "\n",
        "\n",
        "---\n",
        "\n",
        "\n",
        "*Which products will an Instacart consumer purchase again?*\n",
        "\n",
        "<img src=\"https://www.analyticsvidhya.com/wp-content/uploads/2015/06/kaggle-logo-transparent-300.png\" width=\"300\"> \n",
        "<img src=\"https://www.getpeanutbutter.com/wp-content/uploads/2019/09/instacart-logo_v3.png\" width=\"200\">&emsp;"
      ]
    },
    {
      "cell_type": "code",
      "metadata": {
        "id": "2xSbMr_W2SLe",
        "colab_type": "code",
        "colab": {}
      },
      "source": [
        "!wget https://s3.amazonaws.com/instacart-datasets/instacart_online_grocery_shopping_2017_05_01.tar.gz -q\n",
        "!tar -xzf instacart_online_grocery_shopping_2017_05_01.tar.gz ; rm -rf *.tar.gz"
      ],
      "execution_count": null,
      "outputs": []
    },
    {
      "cell_type": "markdown",
      "metadata": {
        "id": "4S4E-a42Orld",
        "colab_type": "text"
      },
      "source": [
        "## Libraries and Data Importation \n",
        "---"
      ]
    },
    {
      "cell_type": "code",
      "metadata": {
        "id": "jel_X85_p1c8",
        "colab_type": "code",
        "colab": {}
      },
      "source": [
        "import pandas as pd\n",
        "import os\n",
        "from tqdm.notebook import tqdm\n",
        "import matplotlib.pyplot as plt\n",
        "import seaborn as sns\n",
        "import numpy as np\n",
        "os.chdir('/content/instacart_2017_05_01/')"
      ],
      "execution_count": null,
      "outputs": []
    },
    {
      "cell_type": "markdown",
      "metadata": {
        "id": "1PnGIioByAzQ",
        "colab_type": "text"
      },
      "source": [
        "### Files and their content"
      ]
    },
    {
      "cell_type": "code",
      "metadata": {
        "id": "jQuUdsE5YguP",
        "colab_type": "code",
        "colab": {}
      },
      "source": [
        "columns=[]\n",
        "content=[]\n",
        "for csv in tqdm(os.listdir()):\n",
        "  if csv.endswith('.csv') and not csv.startswith('sample') and not csv.startswith('.'):\n",
        "    content.append([i for i in pd.read_csv(csv).columns.tolist()])\n",
        "    columns.append(csv)\n",
        "pd.DataFrame(sorted(content), index=sorted(columns)).T"
      ],
      "execution_count": null,
      "outputs": []
    },
    {
      "cell_type": "markdown",
      "metadata": {
        "id": "B3CCEy716_0D",
        "colab_type": "text"
      },
      "source": [
        "## Pre-processing Data"
      ]
    },
    {
      "cell_type": "markdown",
      "metadata": {
        "colab_type": "text",
        "id": "42_WHJywZ2a1"
      },
      "source": [
        "### Join Aisles, Departments and Products into a single DataDrame for ease of use."
      ]
    },
    {
      "cell_type": "code",
      "metadata": {
        "colab_type": "code",
        "cellView": "both",
        "id": "gvLaFDvJZ2a2",
        "colab": {}
      },
      "source": [
        "products=pd.read_csv('products.csv').merge(pd.read_csv('aisles.csv'), on='aisle_id').merge(pd.read_csv('departments.csv'), on='department_id')\n",
        "products.drop(['aisle_id', 'department_id'], 1, inplace=True)\n",
        "products.head()"
      ],
      "execution_count": null,
      "outputs": []
    },
    {
      "cell_type": "markdown",
      "metadata": {
        "colab_type": "text",
        "id": "mMSXU9JhZ2a8"
      },
      "source": [
        "### Merge Orders with Product orders for User_IDs"
      ]
    },
    {
      "cell_type": "code",
      "metadata": {
        "colab_type": "code",
        "id": "sFqCGZUSZ2a8",
        "colab": {}
      },
      "source": [
        "train = pd.read_csv('order_products__train.csv') \n",
        "priors = pd.read_csv('order_products__prior.csv')\n",
        "orders = pd.read_csv('orders.csv')"
      ],
      "execution_count": null,
      "outputs": []
    },
    {
      "cell_type": "code",
      "metadata": {
        "id": "cE6lbydRH1tn",
        "colab_type": "code",
        "colab": {}
      },
      "source": [
        "train = train.merge(orders[orders.eval_set=='train'], on='order_id')\n",
        "train = train.merge(products, on='product_id')\n",
        "train = train.drop('order_id product_id add_to_cart_order reordered eval_set order_dow order_hour_of_day days_since_prior_order'.split(\" \"), 1)\n",
        "train = train.sort_values(['user_id', 'order_number']).reset_index(drop=True)\n",
        "train.head()"
      ],
      "execution_count": null,
      "outputs": []
    },
    {
      "cell_type": "code",
      "metadata": {
        "id": "BGY80gIOI59u",
        "colab_type": "code",
        "colab": {}
      },
      "source": [
        "priors = priors.merge(orders[orders.eval_set=='prior'], on='order_id')\n",
        "priors = priors.merge(products, on='product_id')\n",
        "priors = priors.drop('order_id product_id add_to_cart_order reordered eval_set order_dow order_hour_of_day days_since_prior_order'.split(\" \"), 1)\n",
        "priors = priors.sort_values(['user_id', 'order_number']).reset_index(drop=True)\n",
        "priors.head()"
      ],
      "execution_count": null,
      "outputs": []
    },
    {
      "cell_type": "markdown",
      "metadata": {
        "id": "NOhC_d_kZ6YI",
        "colab_type": "text"
      },
      "source": [
        "### Every User's Shopping List"
      ]
    },
    {
      "cell_type": "code",
      "metadata": {
        "id": "fJZH4YtUw-yl",
        "colab_type": "code",
        "colab": {}
      },
      "source": [
        "transactions=[]\n",
        "for key, group in tqdm(priors.groupby('user_id')):\n",
        "  transactions.append(sorted(set([item for item in group.product_name])))"
      ],
      "execution_count": null,
      "outputs": []
    },
    {
      "cell_type": "markdown",
      "metadata": {
        "id": "0mt-9EO6dWOB",
        "colab_type": "text"
      },
      "source": [
        "### Shopping List to Encoded Dataframe "
      ]
    },
    {
      "cell_type": "code",
      "metadata": {
        "id": "joX8S0WVdtWh",
        "colab_type": "code",
        "colab": {}
      },
      "source": [
        "!pip install --upgrade mlxtend -q\n",
        "from mlxtend.preprocessing import TransactionEncoder\n",
        "from mlxtend.frequent_patterns import apriori, fpgrowth, fpmax, association_rules"
      ],
      "execution_count": null,
      "outputs": []
    },
    {
      "cell_type": "code",
      "metadata": {
        "id": "7TAjgGUTw-pl",
        "colab_type": "code",
        "colab": {}
      },
      "source": [
        "te = TransactionEncoder()\n",
        "te_array = te.fit_transform(transactions)\n",
        "transactions = pd.DataFrame(te_array.astype(\"int\"), columns=te.columns_, index = priors.user_id.unique())\n",
        "transactions.iloc[:5, :5]"
      ],
      "execution_count": null,
      "outputs": []
    },
    {
      "cell_type": "markdown",
      "metadata": {
        "id": "WLxdFUxDd3yR",
        "colab_type": "text"
      },
      "source": [
        "### Generating Frequent Itemsets"
      ]
    },
    {
      "cell_type": "code",
      "metadata": {
        "id": "UMgqMH8Vd0yt",
        "colab_type": "code",
        "colab": {}
      },
      "source": [
        "frequent_itemsets = apriori(transactions, min_support=0.2, use_colnames=True)\n",
        "frequent_itemsets['length'] = frequent_itemsets.itemsets.apply(lambda x: len(x))\n",
        "round(frequent_itemsets, 3)"
      ],
      "execution_count": null,
      "outputs": []
    },
    {
      "cell_type": "markdown",
      "metadata": {
        "id": "r3y80sf5ru8y",
        "colab_type": "text"
      },
      "source": [
        "## Generating and Filtering Results for Association Rules\n",
        "---"
      ]
    },
    {
      "cell_type": "markdown",
      "metadata": {
        "id": "SQwg-Ua26pK4",
        "colab_type": "text"
      },
      "source": [
        "### Compute ***Support***\n",
        "```\n",
        "> support(A→C) = support(A ∪ C)\n",
        "```\n",
        "Measure the abundance or frequency of an item in a database."
      ]
    },
    {
      "cell_type": "code",
      "metadata": {
        "id": "E_za8ddP5dVf",
        "colab_type": "code",
        "colab": {}
      },
      "source": [
        "association_rules(frequent_itemsets, support_only=True).dropna(axis=1)"
      ],
      "execution_count": null,
      "outputs": []
    },
    {
      "cell_type": "markdown",
      "metadata": {
        "id": "-zbzUEPr8KC1",
        "colab_type": "text"
      },
      "source": [
        "### **Confidence** as a threshold metric\n",
        "```\n",
        "confidence(A→C) = support(A→C)/support(A)\n",
        "```\n",
        "Probability of seeing the consequent (Butter) in a transaction given that it also contains the antecedent (Bread)."
      ]
    },
    {
      "cell_type": "code",
      "metadata": {
        "id": "w6uLiZcXrtic",
        "colab_type": "code",
        "colab": {}
      },
      "source": [
        "association_rules(frequent_itemsets, metric=\"confidence\")"
      ],
      "execution_count": null,
      "outputs": []
    },
    {
      "cell_type": "markdown",
      "metadata": {
        "id": "7XzmHq0p83Nl",
        "colab_type": "text"
      },
      "source": [
        "### **Lift** as a threshold metric\n",
        "```\n",
        "lift(A→C) = confidence(A→C)/support(C)\n",
        "```\n",
        "Measure how much more often the antecedent (Bread) and consequent (Butter) of a rule A->C occur together than we would expect if they were statistically independent. \n",
        "If A and C are independent, the Lift score will be exactly 1."
      ]
    },
    {
      "cell_type": "code",
      "metadata": {
        "id": "4VK-JghOv0bi",
        "colab_type": "code",
        "colab": {}
      },
      "source": [
        "association_rules(frequent_itemsets, metric=\"lift\", min_threshold=3)"
      ],
      "execution_count": null,
      "outputs": []
    },
    {
      "cell_type": "markdown",
      "metadata": {
        "id": "ogF10bTN9Lin",
        "colab_type": "text"
      },
      "source": [
        "### **Leverage** as a threshold metric\n",
        "```\n",
        "levarage(A→C) = support(A→C)−support(A)×support(C)\n",
        "```\n",
        "Difference between the observed frequency of A (Bread) and C (Butter) appearing together and the frequency that would be expected if A (Bread) and C (Butter) were independent"
      ]
    },
    {
      "cell_type": "code",
      "metadata": {
        "id": "JHOBNjTqv0ZL",
        "colab_type": "code",
        "colab": {}
      },
      "source": [
        "association_rules(frequent_itemsets, metric=\"leverage\", min_threshold=0.2)"
      ],
      "execution_count": null,
      "outputs": []
    },
    {
      "cell_type": "markdown",
      "metadata": {
        "id": "xqhn6VgB9Y6R",
        "colab_type": "text"
      },
      "source": [
        "### **Conviction** as a threshold metric\n",
        "```\n",
        "conviction(A→C)=1−support(C)/1−confidence(A→C)\n",
        "```\n",
        "A high conviction value means that the consequent (Butter) is highly depending on the antecedent (Bread)."
      ]
    },
    {
      "cell_type": "code",
      "metadata": {
        "id": "dBS6Tw1gv0WM",
        "colab_type": "code",
        "colab": {}
      },
      "source": [
        "association_rules(frequent_itemsets, metric=\"conviction\")"
      ],
      "execution_count": null,
      "outputs": []
    }
  ]
}